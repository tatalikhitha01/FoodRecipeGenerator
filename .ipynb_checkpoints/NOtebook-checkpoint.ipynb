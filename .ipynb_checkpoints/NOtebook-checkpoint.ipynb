{
 "cells": [
  {
   "cell_type": "code",
   "execution_count": 1,
   "metadata": {},
   "outputs": [],
   "source": [
    "import warnings\n",
    "warnings.filterwarnings('ignore')"
   ]
  },
  {
   "cell_type": "code",
   "execution_count": 2,
   "metadata": {},
   "outputs": [
    {
     "name": "stderr",
     "output_type": "stream",
     "text": [
      "Using TensorFlow backend.\n"
     ]
    }
   ],
   "source": [
    "import numpy as np\n",
    "import pandas as pd\n",
    "from Recipe import *\n",
    "import os\n",
    "import cv2\n",
    "from keras.utils.np_utils import to_categorical\n",
    "from keras.layers import  MaxPooling2D\n",
    "from keras.layers import Dense, Dropout, Activation, Flatten\n",
    "from keras.layers import Convolution2D\n",
    "from keras.models import Sequential\n",
    "from keras.models import model_from_json\n",
    "import pickle\n",
    "import ast\n",
    "import keras\n",
    "from keras import layers\n",
    "import tensorflow as tf\n"
   ]
  },
  {
   "cell_type": "code",
   "execution_count": 3,
   "metadata": {},
   "outputs": [],
   "source": [
    "global filename\n",
    "global classifier\n",
    "recipe_list = []\n",
    "global dataset"
   ]
  },
  {
   "cell_type": "code",
   "execution_count": 4,
   "metadata": {},
   "outputs": [],
   "source": [
    "dataset = pd.read_csv('Dataset/core-data_recipe.csv',nrows=1000)"
   ]
  },
  {
   "cell_type": "code",
   "execution_count": 5,
   "metadata": {},
   "outputs": [
    {
     "name": "stdout",
     "output_type": "stream",
     "text": [
      "indian chai hot chocolate\n"
     ]
    }
   ],
   "source": [
    "for i in range(len(dataset)):\n",
    "    r_id = dataset._get_value(i, 'recipe_id')\n",
    "    r_name = dataset._get_value(i, 'recipe_name')\n",
    "    ingredients = dataset._get_value(i, 'ingredients')\n",
    "    nutritions = dataset._get_value(i, 'nutritions')\n",
    "    cooking = ast.literal_eval(dataset._get_value(i, 'cooking_directions')).get('directions')\n",
    "    r_name = r_name.strip().lower()\n",
    "    obj = Recipe()\n",
    "    obj.setRecipeID(r_id)\n",
    "    obj.setName(r_name)\n",
    "    obj.setIngredients(ingredients)\n",
    "    obj.setNutritions(nutritions)\n",
    "    obj.setCooking(cooking)\n",
    "    recipe_list.append(obj)\n",
    "indian = np.load('index.txt.npy',allow_pickle=True)\n",
    "for i in range(len(indian)):\n",
    "    recipe_list.append(indian[i])\n",
    "obj = recipe_list[len(recipe_list)-1]\n",
    "print(obj.getName())"
   ]
  },
  {
   "cell_type": "code",
   "execution_count": 6,
   "metadata": {},
   "outputs": [],
   "source": [
    "encoding_dim = 32\n",
    "X_train = np.load('model/X.txt.npy')\n",
    "Y_train = np.load('model/Y.txt.npy')\n",
    "X = X_train.reshape(X_train.shape[0],(64 * 64 * 3))"
   ]
  },
  {
   "cell_type": "code",
   "execution_count": 7,
   "metadata": {},
   "outputs": [
    {
     "name": "stdout",
     "output_type": "stream",
     "text": [
      "(5625, 12288)\n"
     ]
    }
   ],
   "source": [
    "print(X.shape)"
   ]
  },
  {
   "cell_type": "markdown",
   "metadata": {},
   "source": [
    "# Autoencoder CNN"
   ]
  },
  {
   "cell_type": "code",
   "execution_count": 8,
   "metadata": {},
   "outputs": [],
   "source": [
    "input_img = keras.Input(shape=(X.shape[1],))\n",
    "encoded = layers.Dense(encoding_dim, activation='relu')(input_img)\n",
    "decoded = layers.Dense(Y_train.shape[1], activation='softmax')(encoded)\n",
    "autoencoder = keras.Model(input_img, decoded)\n",
    "encoder = keras.Model(input_img, encoded)\n",
    "encoded_input = keras.Input(shape=(encoding_dim,))\n",
    "decoder_layer = autoencoder.layers[-1]\n",
    "decoder = keras.Model(encoded_input, decoder_layer(encoded_input))\n",
    "autoencoder.compile(optimizer='adam', loss='binary_crossentropy')"
   ]
  },
  {
   "cell_type": "code",
   "execution_count": 10,
   "metadata": {},
   "outputs": [
    {
     "name": "stdout",
     "output_type": "stream",
     "text": [
      "Epoch 1/100\n",
      "704/704 - 4s - loss: 0.0071\n",
      "Epoch 2/100\n",
      "704/704 - 4s - loss: 0.0071\n",
      "Epoch 3/100\n",
      "704/704 - 4s - loss: 0.0071\n",
      "Epoch 4/100\n",
      "704/704 - 4s - loss: 0.0071\n",
      "Epoch 5/100\n",
      "704/704 - 4s - loss: 0.0071\n",
      "Epoch 6/100\n",
      "704/704 - 4s - loss: 0.0071\n",
      "Epoch 7/100\n",
      "704/704 - 4s - loss: 0.0071\n",
      "Epoch 8/100\n",
      "704/704 - 4s - loss: 0.0071\n",
      "Epoch 9/100\n",
      "704/704 - 4s - loss: 0.0071\n",
      "Epoch 10/100\n",
      "704/704 - 4s - loss: 0.0071\n",
      "Epoch 11/100\n",
      "704/704 - 4s - loss: 0.0071\n",
      "Epoch 12/100\n",
      "704/704 - 4s - loss: 0.0071\n",
      "Epoch 13/100\n",
      "704/704 - 4s - loss: 0.0071\n",
      "Epoch 14/100\n",
      "704/704 - 4s - loss: 0.0071\n",
      "Epoch 15/100\n",
      "704/704 - 4s - loss: 0.0071\n",
      "Epoch 16/100\n",
      "704/704 - 4s - loss: 0.0071\n",
      "Epoch 17/100\n",
      "704/704 - 4s - loss: 0.0071\n",
      "Epoch 18/100\n",
      "704/704 - 4s - loss: 0.0071\n",
      "Epoch 19/100\n",
      "704/704 - 4s - loss: 0.0071\n",
      "Epoch 20/100\n",
      "704/704 - 4s - loss: 0.0071\n",
      "Epoch 21/100\n",
      "704/704 - 4s - loss: 0.0071\n",
      "Epoch 22/100\n",
      "704/704 - 4s - loss: 0.0071\n",
      "Epoch 23/100\n",
      "704/704 - 4s - loss: 0.0071\n",
      "Epoch 24/100\n",
      "704/704 - 4s - loss: 0.0071\n",
      "Epoch 25/100\n",
      "704/704 - 4s - loss: 0.0071\n",
      "Epoch 26/100\n",
      "704/704 - 4s - loss: 0.0071\n",
      "Epoch 27/100\n",
      "704/704 - 4s - loss: 0.0071\n",
      "Epoch 28/100\n",
      "704/704 - 4s - loss: 0.0071\n",
      "Epoch 29/100\n",
      "704/704 - 4s - loss: 0.0071\n",
      "Epoch 30/100\n",
      "704/704 - 4s - loss: 0.0071\n",
      "Epoch 31/100\n",
      "704/704 - 4s - loss: 0.0071\n",
      "Epoch 32/100\n",
      "704/704 - 4s - loss: 0.0071\n",
      "Epoch 33/100\n",
      "704/704 - 4s - loss: 0.0071\n",
      "Epoch 34/100\n",
      "704/704 - 4s - loss: 0.0071\n",
      "Epoch 35/100\n",
      "704/704 - 3s - loss: 0.0071\n",
      "Epoch 36/100\n",
      "704/704 - 3s - loss: 0.0071\n",
      "Epoch 37/100\n",
      "704/704 - 4s - loss: 0.0071\n",
      "Epoch 38/100\n",
      "704/704 - 4s - loss: 0.0071\n",
      "Epoch 39/100\n",
      "704/704 - 4s - loss: 0.0071\n",
      "Epoch 40/100\n",
      "704/704 - 4s - loss: 0.0071\n",
      "Epoch 41/100\n",
      "704/704 - 4s - loss: 0.0071\n",
      "Epoch 42/100\n",
      "704/704 - 4s - loss: 0.0071\n",
      "Epoch 43/100\n",
      "704/704 - 4s - loss: 0.0071\n",
      "Epoch 44/100\n",
      "704/704 - 4s - loss: 0.0071\n",
      "Epoch 45/100\n",
      "704/704 - 4s - loss: 0.0071\n",
      "Epoch 46/100\n",
      "704/704 - 4s - loss: 0.0071\n",
      "Epoch 47/100\n",
      "704/704 - 4s - loss: 0.0071\n",
      "Epoch 48/100\n",
      "704/704 - 3s - loss: 0.0071\n",
      "Epoch 49/100\n",
      "704/704 - 3s - loss: 0.0071\n",
      "Epoch 50/100\n",
      "704/704 - 4s - loss: 0.0071\n",
      "Epoch 51/100\n",
      "704/704 - 3s - loss: 0.0071\n",
      "Epoch 52/100\n",
      "704/704 - 4s - loss: 0.0071\n",
      "Epoch 53/100\n",
      "704/704 - 3s - loss: 0.0071\n",
      "Epoch 54/100\n",
      "704/704 - 3s - loss: 0.0071\n",
      "Epoch 55/100\n",
      "704/704 - 3s - loss: 0.0071\n",
      "Epoch 56/100\n",
      "704/704 - 3s - loss: 0.0071\n",
      "Epoch 57/100\n",
      "704/704 - 4s - loss: 0.0071\n",
      "Epoch 58/100\n",
      "704/704 - 4s - loss: 0.0071\n",
      "Epoch 59/100\n",
      "704/704 - 3s - loss: 0.0071\n",
      "Epoch 60/100\n",
      "704/704 - 3s - loss: 0.0071\n",
      "Epoch 61/100\n",
      "704/704 - 3s - loss: 0.0071\n",
      "Epoch 62/100\n",
      "704/704 - 3s - loss: 0.0071\n",
      "Epoch 63/100\n",
      "704/704 - 3s - loss: 0.0071\n",
      "Epoch 64/100\n",
      "704/704 - 4s - loss: 0.0071\n",
      "Epoch 65/100\n",
      "704/704 - 4s - loss: 0.0071\n",
      "Epoch 66/100\n",
      "704/704 - 3s - loss: 0.0071\n",
      "Epoch 67/100\n",
      "704/704 - 3s - loss: 0.0071\n",
      "Epoch 68/100\n",
      "704/704 - 4s - loss: 0.0071\n",
      "Epoch 69/100\n",
      "704/704 - 3s - loss: 0.0071\n",
      "Epoch 70/100\n",
      "704/704 - 3s - loss: 0.0071\n",
      "Epoch 71/100\n",
      "704/704 - 4s - loss: 0.0071\n",
      "Epoch 72/100\n",
      "704/704 - 4s - loss: 0.0071\n",
      "Epoch 73/100\n",
      "704/704 - 4s - loss: 0.0071\n",
      "Epoch 74/100\n",
      "704/704 - 3s - loss: 0.0071\n",
      "Epoch 75/100\n",
      "704/704 - 4s - loss: 0.0071\n",
      "Epoch 76/100\n",
      "704/704 - 5s - loss: 0.0071\n",
      "Epoch 77/100\n",
      "704/704 - 4s - loss: 0.0071\n",
      "Epoch 78/100\n",
      "704/704 - 4s - loss: 0.0071\n",
      "Epoch 79/100\n",
      "704/704 - 4s - loss: 0.0071\n",
      "Epoch 80/100\n",
      "704/704 - 4s - loss: 0.0071\n",
      "Epoch 81/100\n",
      "704/704 - 4s - loss: 0.0071\n",
      "Epoch 82/100\n",
      "704/704 - 4s - loss: 0.0071\n",
      "Epoch 83/100\n",
      "704/704 - 4s - loss: 0.0071\n",
      "Epoch 84/100\n",
      "704/704 - 6s - loss: 0.0071\n",
      "Epoch 85/100\n",
      "704/704 - 4s - loss: 0.0071\n",
      "Epoch 86/100\n",
      "704/704 - 4s - loss: 0.0071\n",
      "Epoch 87/100\n",
      "704/704 - 4s - loss: 0.0071\n",
      "Epoch 88/100\n",
      "704/704 - 4s - loss: 0.0071\n",
      "Epoch 89/100\n",
      "704/704 - 4s - loss: 0.0071\n",
      "Epoch 90/100\n",
      "704/704 - 3s - loss: 0.0071\n",
      "Epoch 91/100\n",
      "704/704 - 4s - loss: 0.0071\n",
      "Epoch 92/100\n",
      "704/704 - 4s - loss: 0.0071\n",
      "Epoch 93/100\n",
      "704/704 - 4s - loss: 0.0071\n",
      "Epoch 94/100\n",
      "704/704 - 4s - loss: 0.0071\n",
      "Epoch 95/100\n",
      "704/704 - 4s - loss: 0.0071\n",
      "Epoch 96/100\n",
      "704/704 - 4s - loss: 0.0071\n",
      "Epoch 97/100\n",
      "704/704 - 4s - loss: 0.0071\n",
      "Epoch 98/100\n",
      "704/704 - 3s - loss: 0.0071\n",
      "Epoch 99/100\n",
      "704/704 - 3s - loss: 0.0071\n",
      "Epoch 100/100\n",
      "704/704 - 4s - loss: 0.0071\n"
     ]
    }
   ],
   "source": [
    "hist = autoencoder.fit(X, Y_train, batch_size=8, epochs=100, shuffle=True, verbose=2)"
   ]
  },
  {
   "cell_type": "code",
   "execution_count": 11,
   "metadata": {},
   "outputs": [],
   "source": [
    "val1 = 1 - hist.history['loss'][9]"
   ]
  },
  {
   "cell_type": "code",
   "execution_count": 12,
   "metadata": {},
   "outputs": [
    {
     "data": {
      "text/plain": [
       "<Figure size 2000x1000 with 1 Axes>"
      ]
     },
     "metadata": {},
     "output_type": "display_data"
    }
   ],
   "source": [
    "import matplotlib.pyplot as plt\n",
    "\n",
    "x=hist\n",
    "plt.figure(figsize=(20,10))\n",
    "plt.subplot(1, 2, 1)\n",
    "plt.suptitle('Optimizer : adam', fontsize=10)\n",
    "plt.ylabel('Loss', fontsize=16)\n",
    "plt.plot(x.history['loss'], label='Training Loss')\n",
    "plt.show()"
   ]
  },
  {
   "cell_type": "markdown",
   "metadata": {},
   "source": [
    "# miniVGG"
   ]
  },
  {
   "cell_type": "code",
   "execution_count": 13,
   "metadata": {},
   "outputs": [],
   "source": [
    "import os\n",
    "import cv2\n",
    "import numpy as np\n",
    "from keras.utils.np_utils import to_categorical\n",
    "from keras.layers import  MaxPooling2D\n",
    "from keras.layers import Dense, Dropout, Activation, Flatten\n",
    "from keras.layers import Convolution2D\n",
    "from keras.models import Sequential\n",
    "from keras.models import model_from_json\n",
    "import pickle\n",
    "\n",
    "import keras\n",
    "from keras import layers\n"
   ]
  },
  {
   "cell_type": "code",
   "execution_count": 14,
   "metadata": {},
   "outputs": [
    {
     "name": "stdout",
     "output_type": "stream",
     "text": [
      "[[0. 0. 0. ... 0. 0. 0.]\n",
      " [0. 0. 0. ... 0. 0. 0.]\n",
      " [0. 0. 0. ... 0. 0. 0.]\n",
      " ...\n",
      " [0. 0. 0. ... 0. 0. 0.]\n",
      " [0. 0. 0. ... 0. 0. 0.]\n",
      " [0. 0. 0. ... 0. 0. 0.]]\n"
     ]
    }
   ],
   "source": [
    "X_train = np.load('model/X.txt.npy')\n",
    "Y_train = np.load('model/Y.txt.npy')\n",
    "print(Y_train)"
   ]
  },
  {
   "cell_type": "code",
   "execution_count": 15,
   "metadata": {},
   "outputs": [
    {
     "name": "stdout",
     "output_type": "stream",
     "text": [
      "Model: \"sequential\"\n",
      "_________________________________________________________________\n",
      "Layer (type)                 Output Shape              Param #   \n",
      "=================================================================\n",
      "conv2d (Conv2D)              (None, 21, 21, 32)        896       \n",
      "_________________________________________________________________\n",
      "max_pooling2d (MaxPooling2D) (None, 10, 10, 32)        0         \n",
      "_________________________________________________________________\n",
      "conv2d_1 (Conv2D)            (None, 3, 3, 32)          9248      \n",
      "_________________________________________________________________\n",
      "max_pooling2d_1 (MaxPooling2 (None, 1, 1, 32)          0         \n",
      "_________________________________________________________________\n",
      "flatten (Flatten)            (None, 32)                0         \n",
      "_________________________________________________________________\n",
      "dense_2 (Dense)              (None, 256)               8448      \n",
      "_________________________________________________________________\n",
      "dense_3 (Dense)              (None, 1126)              289382    \n",
      "=================================================================\n",
      "Total params: 307,974\n",
      "Trainable params: 307,974\n",
      "Non-trainable params: 0\n",
      "_________________________________________________________________\n",
      "None\n"
     ]
    }
   ],
   "source": [
    "classifier = Sequential()\n",
    "classifier.add(Convolution2D(32, 3, 3, input_shape = (64, 64, 3), activation = 'relu'))\n",
    "classifier.add(MaxPooling2D(pool_size = (2, 2)))\n",
    "classifier.add(Convolution2D(32, 3, 3, activation = 'relu'))\n",
    "classifier.add(MaxPooling2D(pool_size = (2, 2)))\n",
    "classifier.add(Flatten())\n",
    "classifier.add(Dense(units = 256, activation = 'relu'))\n",
    "classifier.add(Dense(units = Y_train.shape[1], activation = 'softmax'))\n",
    "print(classifier.summary())\n",
    "classifier.compile(optimizer = 'adam', loss = 'categorical_crossentropy', metrics = ['accuracy'])"
   ]
  },
  {
   "cell_type": "code",
   "execution_count": 17,
   "metadata": {},
   "outputs": [
    {
     "name": "stdout",
     "output_type": "stream",
     "text": [
      "Epoch 1/100\n",
      "352/352 - 4s - loss: 0.0256 - accuracy: 0.9952\n",
      "Epoch 2/100\n",
      "352/352 - 4s - loss: 0.0173 - accuracy: 0.9968\n",
      "Epoch 3/100\n",
      "352/352 - 4s - loss: 0.0157 - accuracy: 0.9970\n",
      "Epoch 4/100\n",
      "352/352 - 4s - loss: 0.0164 - accuracy: 0.9972\n",
      "Epoch 5/100\n",
      "352/352 - 3s - loss: 0.0397 - accuracy: 0.9899\n",
      "Epoch 6/100\n",
      "352/352 - 3s - loss: 0.2127 - accuracy: 0.9415\n",
      "Epoch 7/100\n",
      "352/352 - 3s - loss: 0.0381 - accuracy: 0.9908\n",
      "Epoch 8/100\n",
      "352/352 - 3s - loss: 0.0203 - accuracy: 0.9954\n",
      "Epoch 9/100\n",
      "352/352 - 4s - loss: 0.0168 - accuracy: 0.9964\n",
      "Epoch 10/100\n",
      "352/352 - 4s - loss: 0.0078 - accuracy: 0.9984\n",
      "Epoch 11/100\n",
      "352/352 - 4s - loss: 0.0119 - accuracy: 0.9972\n",
      "Epoch 12/100\n",
      "352/352 - 4s - loss: 0.0113 - accuracy: 0.9968\n",
      "Epoch 13/100\n",
      "352/352 - 4s - loss: 0.0088 - accuracy: 0.9977\n",
      "Epoch 14/100\n",
      "352/352 - 4s - loss: 0.0134 - accuracy: 0.9966\n",
      "Epoch 15/100\n",
      "352/352 - 4s - loss: 0.1734 - accuracy: 0.9527\n",
      "Epoch 16/100\n",
      "352/352 - 3s - loss: 0.0201 - accuracy: 0.9932\n",
      "Epoch 17/100\n",
      "352/352 - 4s - loss: 0.0100 - accuracy: 0.9975\n",
      "Epoch 18/100\n",
      "352/352 - 4s - loss: 0.0081 - accuracy: 0.9973\n",
      "Epoch 19/100\n",
      "352/352 - 4s - loss: 0.0074 - accuracy: 0.9975\n",
      "Epoch 20/100\n",
      "352/352 - 3s - loss: 0.0091 - accuracy: 0.9972\n",
      "Epoch 21/100\n",
      "352/352 - 3s - loss: 0.0088 - accuracy: 0.9968\n",
      "Epoch 22/100\n",
      "352/352 - 4s - loss: 0.0097 - accuracy: 0.9968\n",
      "Epoch 23/100\n",
      "352/352 - 3s - loss: 0.0076 - accuracy: 0.9980\n",
      "Epoch 24/100\n",
      "352/352 - 3s - loss: 0.0089 - accuracy: 0.9964\n",
      "Epoch 25/100\n",
      "352/352 - 4s - loss: 0.0090 - accuracy: 0.9966\n",
      "Epoch 26/100\n",
      "352/352 - 3s - loss: 0.0100 - accuracy: 0.9964\n",
      "Epoch 27/100\n",
      "352/352 - 3s - loss: 0.1360 - accuracy: 0.9598\n",
      "Epoch 28/100\n",
      "352/352 - 3s - loss: 0.0295 - accuracy: 0.9913\n",
      "Epoch 29/100\n",
      "352/352 - 3s - loss: 0.0048 - accuracy: 0.9980\n",
      "Epoch 30/100\n",
      "352/352 - 3s - loss: 0.0069 - accuracy: 0.9970\n",
      "Epoch 31/100\n",
      "352/352 - 4s - loss: 0.0083 - accuracy: 0.9966\n",
      "Epoch 32/100\n",
      "352/352 - 3s - loss: 0.0075 - accuracy: 0.9964\n",
      "Epoch 33/100\n",
      "352/352 - 3s - loss: 0.0061 - accuracy: 0.9977\n",
      "Epoch 34/100\n",
      "352/352 - 3s - loss: 0.0062 - accuracy: 0.9972\n",
      "Epoch 35/100\n",
      "352/352 - 3s - loss: 0.0059 - accuracy: 0.9968\n",
      "Epoch 36/100\n",
      "352/352 - 3s - loss: 0.0065 - accuracy: 0.9970\n",
      "Epoch 37/100\n",
      "352/352 - 3s - loss: 0.0055 - accuracy: 0.9979\n",
      "Epoch 38/100\n",
      "352/352 - 4s - loss: 0.0063 - accuracy: 0.9973\n",
      "Epoch 39/100\n",
      "352/352 - 3s - loss: 0.0062 - accuracy: 0.9970\n",
      "Epoch 40/100\n",
      "352/352 - 3s - loss: 0.0980 - accuracy: 0.9698\n",
      "Epoch 41/100\n",
      "352/352 - 3s - loss: 0.0160 - accuracy: 0.9947\n",
      "Epoch 42/100\n",
      "352/352 - 4s - loss: 0.0058 - accuracy: 0.9975\n",
      "Epoch 43/100\n",
      "352/352 - 4s - loss: 0.0055 - accuracy: 0.9977\n",
      "Epoch 44/100\n",
      "352/352 - 3s - loss: 0.0051 - accuracy: 0.9973\n",
      "Epoch 45/100\n",
      "352/352 - 4s - loss: 0.0059 - accuracy: 0.9966\n",
      "Epoch 46/100\n",
      "352/352 - 3s - loss: 0.0050 - accuracy: 0.9972\n",
      "Epoch 47/100\n",
      "352/352 - 3s - loss: 0.0055 - accuracy: 0.9970\n",
      "Epoch 48/100\n",
      "352/352 - 4s - loss: 0.0055 - accuracy: 0.9970\n",
      "Epoch 49/100\n",
      "352/352 - 3s - loss: 0.0051 - accuracy: 0.9968\n",
      "Epoch 50/100\n",
      "352/352 - 3s - loss: 0.0049 - accuracy: 0.9972\n",
      "Epoch 51/100\n",
      "352/352 - 3s - loss: 0.0047 - accuracy: 0.9972\n",
      "Epoch 52/100\n",
      "352/352 - 3s - loss: 0.0054 - accuracy: 0.9964\n",
      "Epoch 53/100\n",
      "352/352 - 3s - loss: 0.0051 - accuracy: 0.9972\n",
      "Epoch 54/100\n",
      "352/352 - 4s - loss: 0.0930 - accuracy: 0.9708\n",
      "Epoch 55/100\n",
      "352/352 - 3s - loss: 0.0130 - accuracy: 0.9954\n",
      "Epoch 56/100\n",
      "352/352 - 4s - loss: 0.0053 - accuracy: 0.9966\n",
      "Epoch 57/100\n",
      "352/352 - 3s - loss: 0.0052 - accuracy: 0.9977\n",
      "Epoch 58/100\n",
      "352/352 - 3s - loss: 0.0047 - accuracy: 0.9973\n",
      "Epoch 59/100\n",
      "352/352 - 3s - loss: 0.0054 - accuracy: 0.9961\n",
      "Epoch 60/100\n",
      "352/352 - 3s - loss: 0.0046 - accuracy: 0.9970\n",
      "Epoch 61/100\n",
      "352/352 - 3s - loss: 0.0049 - accuracy: 0.9968\n",
      "Epoch 62/100\n",
      "352/352 - 3s - loss: 0.0047 - accuracy: 0.9970\n",
      "Epoch 63/100\n",
      "352/352 - 3s - loss: 0.0047 - accuracy: 0.9970\n",
      "Epoch 64/100\n",
      "352/352 - 3s - loss: 0.0048 - accuracy: 0.9970\n",
      "Epoch 65/100\n",
      "352/352 - 3s - loss: 0.0047 - accuracy: 0.9968\n",
      "Epoch 66/100\n",
      "352/352 - 3s - loss: 0.0045 - accuracy: 0.9970\n",
      "Epoch 67/100\n",
      "352/352 - 3s - loss: 0.0042 - accuracy: 0.9980\n",
      "Epoch 68/100\n",
      "352/352 - 3s - loss: 0.0607 - accuracy: 0.9820\n",
      "Epoch 69/100\n",
      "352/352 - 3s - loss: 0.0260 - accuracy: 0.9909\n",
      "Epoch 70/100\n",
      "352/352 - 4s - loss: 0.0064 - accuracy: 0.9966\n",
      "Epoch 71/100\n",
      "352/352 - 3s - loss: 0.0050 - accuracy: 0.9964\n",
      "Epoch 72/100\n",
      "352/352 - 4s - loss: 0.0047 - accuracy: 0.9973\n",
      "Epoch 73/100\n",
      "352/352 - 3s - loss: 0.0043 - accuracy: 0.9977\n",
      "Epoch 74/100\n",
      "352/352 - 3s - loss: 0.0048 - accuracy: 0.9966\n",
      "Epoch 75/100\n",
      "352/352 - 3s - loss: 0.0047 - accuracy: 0.9961\n",
      "Epoch 76/100\n",
      "352/352 - 4s - loss: 0.0043 - accuracy: 0.9970\n",
      "Epoch 77/100\n",
      "352/352 - 4s - loss: 0.0044 - accuracy: 0.9970\n",
      "Epoch 78/100\n",
      "352/352 - 4s - loss: 0.0045 - accuracy: 0.9963\n",
      "Epoch 79/100\n",
      "352/352 - 3s - loss: 0.0045 - accuracy: 0.9968\n",
      "Epoch 80/100\n",
      "352/352 - 3s - loss: 0.0045 - accuracy: 0.9968\n",
      "Epoch 81/100\n",
      "352/352 - 3s - loss: 0.0043 - accuracy: 0.9970\n",
      "Epoch 82/100\n",
      "352/352 - 3s - loss: 0.0047 - accuracy: 0.9961\n",
      "Epoch 83/100\n",
      "352/352 - 3s - loss: 0.0046 - accuracy: 0.9966\n",
      "Epoch 84/100\n",
      "352/352 - 4s - loss: 0.0515 - accuracy: 0.9847\n",
      "Epoch 85/100\n",
      "352/352 - 4s - loss: 0.0429 - accuracy: 0.9874\n",
      "Epoch 86/100\n",
      "352/352 - 4s - loss: 0.0054 - accuracy: 0.9970\n",
      "Epoch 87/100\n",
      "352/352 - 4s - loss: 0.0051 - accuracy: 0.9966\n",
      "Epoch 88/100\n",
      "352/352 - 4s - loss: 0.0047 - accuracy: 0.9972\n",
      "Epoch 89/100\n",
      "352/352 - 4s - loss: 0.0043 - accuracy: 0.9970\n",
      "Epoch 90/100\n",
      "352/352 - 3s - loss: 0.0041 - accuracy: 0.9973\n",
      "Epoch 91/100\n",
      "352/352 - 4s - loss: 0.0046 - accuracy: 0.9975\n",
      "Epoch 92/100\n",
      "352/352 - 4s - loss: 0.0041 - accuracy: 0.9975\n",
      "Epoch 93/100\n",
      "352/352 - 3s - loss: 0.0045 - accuracy: 0.9964\n",
      "Epoch 94/100\n",
      "352/352 - 4s - loss: 0.0044 - accuracy: 0.9964\n",
      "Epoch 95/100\n",
      "352/352 - 3s - loss: 0.0043 - accuracy: 0.9968\n",
      "Epoch 96/100\n",
      "352/352 - 3s - loss: 0.0042 - accuracy: 0.9972\n",
      "Epoch 97/100\n",
      "352/352 - 3s - loss: 0.0043 - accuracy: 0.9977\n",
      "Epoch 98/100\n",
      "352/352 - 3s - loss: 0.0044 - accuracy: 0.9972\n",
      "Epoch 99/100\n",
      "352/352 - 4s - loss: 0.0042 - accuracy: 0.9970\n",
      "Epoch 100/100\n",
      "352/352 - 3s - loss: 0.0043 - accuracy: 0.9966\n"
     ]
    }
   ],
   "source": [
    "hist1 = classifier.fit(X_train, Y_train, batch_size=16, epochs=100, shuffle=True, verbose=2)"
   ]
  },
  {
   "cell_type": "code",
   "execution_count": 18,
   "metadata": {},
   "outputs": [],
   "source": [
    "val2 = hist1.history['accuracy'][9]"
   ]
  },
  {
   "cell_type": "code",
   "execution_count": 19,
   "metadata": {},
   "outputs": [
    {
     "data": {
      "image/png": "[encoded data removed]",
      "text/plain": [
       "<Figure size 1440x720 with 1 Axes>"
      ]
     },
     "metadata": {
      "needs_background": "light"
     },
     "output_type": "display_data"
    }
   ],
   "source": [
    "import matplotlib.pyplot as plt\n",
    "\n",
    "x=hist1\n",
    "plt.figure(figsize=(20,10))\n",
    "plt.subplot(1, 2, 1)\n",
    "plt.suptitle('Optimizer : adam', fontsize=10)\n",
    "plt.ylabel('Loss', fontsize=16)\n",
    "plt.plot(x.history['loss'], label='Training Loss')\n",
    "plt.plot(x.history['accuracy'], label='Training Accuracy')\n",
    "plt.show()"
   ]
  },
  {
   "cell_type": "markdown",
   "metadata": {},
   "source": [
    "# miniGoogleNet"
   ]
  },
  {
   "cell_type": "code",
   "execution_count": 20,
   "metadata": {},
   "outputs": [],
   "source": [
    "def inceptionblock():\n",
    "    \n",
    "    model = Sequential()\n",
    "    model.add(Convolution2D(32, 3, 3, input_shape = (64, 64, 3), activation = 'relu'))\n",
    "    model.add(MaxPooling2D(pool_size = (2, 2)))\n",
    "    model.add(Convolution2D(32, 3, 3, activation = 'relu'))\n",
    "    model.add(MaxPooling2D(pool_size = (2, 2)))\n",
    "    model.add(Flatten())\n",
    "    model.add(Dense(units = 256, activation = 'relu'))\n",
    "    model.add(Dense(units = Y_train.shape[1], activation = 'softmax'))\n",
    "    \n",
    "    return model\n"
   ]
  },
  {
   "cell_type": "code",
   "execution_count": 21,
   "metadata": {},
   "outputs": [
    {
     "name": "stdout",
     "output_type": "stream",
     "text": [
      "Model: \"sequential_1\"\n",
      "_________________________________________________________________\n",
      "Layer (type)                 Output Shape              Param #   \n",
      "=================================================================\n",
      "conv2d_2 (Conv2D)            (None, 21, 21, 32)        896       \n",
      "_________________________________________________________________\n",
      "max_pooling2d_2 (MaxPooling2 (None, 10, 10, 32)        0         \n",
      "_________________________________________________________________\n",
      "conv2d_3 (Conv2D)            (None, 3, 3, 32)          9248      \n",
      "_________________________________________________________________\n",
      "max_pooling2d_3 (MaxPooling2 (None, 1, 1, 32)          0         \n",
      "_________________________________________________________________\n",
      "flatten_1 (Flatten)          (None, 32)                0         \n",
      "_________________________________________________________________\n",
      "dense_4 (Dense)              (None, 256)               8448      \n",
      "_________________________________________________________________\n",
      "dense_5 (Dense)              (None, 1126)              289382    \n",
      "=================================================================\n",
      "Total params: 307,974\n",
      "Trainable params: 307,974\n",
      "Non-trainable params: 0\n",
      "_________________________________________________________________\n",
      "None\n"
     ]
    }
   ],
   "source": [
    "model = inceptionblock()\n",
    "print(model.summary())\n",
    "model.compile(optimizer = 'adam', loss = 'binary_crossentropy', metrics = ['accuracy'])"
   ]
  },
  {
   "cell_type": "code",
   "execution_count": 23,
   "metadata": {},
   "outputs": [
    {
     "name": "stdout",
     "output_type": "stream",
     "text": [
      "Epoch 1/100\n",
      "352/352 - 3s - loss: 5.4884e-05 - accuracy: 0.9924\n",
      "Epoch 2/100\n",
      "352/352 - 4s - loss: 4.0498e-05 - accuracy: 0.9931\n",
      "Epoch 3/100\n",
      "352/352 - 3s - loss: 9.2644e-05 - accuracy: 0.9870\n",
      "Epoch 4/100\n",
      "352/352 - 4s - loss: 2.1080e-04 - accuracy: 0.9652\n",
      "Epoch 5/100\n",
      "352/352 - 3s - loss: 8.3105e-05 - accuracy: 0.9845\n",
      "Epoch 6/100\n",
      "352/352 - 3s - loss: 3.3706e-05 - accuracy: 0.9936\n",
      "Epoch 7/100\n",
      "352/352 - 3s - loss: 2.0604e-05 - accuracy: 0.9968\n",
      "Epoch 8/100\n",
      "352/352 - 4s - loss: 1.8381e-05 - accuracy: 0.9972\n",
      "Epoch 9/100\n",
      "352/352 - 4s - loss: 1.7083e-05 - accuracy: 0.9964\n",
      "Epoch 10/100\n",
      "352/352 - 3s - loss: 1.6076e-05 - accuracy: 0.9970\n",
      "Epoch 11/100\n",
      "352/352 - 3s - loss: 2.8506e-04 - accuracy: 0.9488\n",
      "Epoch 12/100\n",
      "352/352 - 3s - loss: 7.1626e-05 - accuracy: 0.9874\n",
      "Epoch 13/100\n",
      "352/352 - 3s - loss: 1.3730e-05 - accuracy: 0.9980\n",
      "Epoch 14/100\n",
      "352/352 - 3s - loss: 1.4858e-05 - accuracy: 0.9966\n",
      "Epoch 15/100\n",
      "352/352 - 4s - loss: 1.2316e-05 - accuracy: 0.9973\n",
      "Epoch 16/100\n",
      "352/352 - 3s - loss: 1.2326e-05 - accuracy: 0.9968\n",
      "Epoch 17/100\n",
      "352/352 - 3s - loss: 1.1141e-05 - accuracy: 0.9977\n",
      "Epoch 18/100\n",
      "352/352 - 3s - loss: 1.2060e-05 - accuracy: 0.9972\n",
      "Epoch 19/100\n",
      "352/352 - 3s - loss: 1.5398e-05 - accuracy: 0.9970\n",
      "Epoch 20/100\n",
      "352/352 - 3s - loss: 1.2083e-05 - accuracy: 0.9973\n",
      "Epoch 21/100\n",
      "352/352 - 3s - loss: 3.0054e-04 - accuracy: 0.9452\n",
      "Epoch 22/100\n",
      "352/352 - 3s - loss: 1.0086e-04 - accuracy: 0.9810\n",
      "Epoch 23/100\n",
      "352/352 - 3s - loss: 1.6837e-05 - accuracy: 0.9968\n",
      "Epoch 24/100\n",
      "352/352 - 4s - loss: 1.2128e-05 - accuracy: 0.9964\n",
      "Epoch 25/100\n",
      "352/352 - 4s - loss: 9.7298e-06 - accuracy: 0.9980\n",
      "Epoch 26/100\n",
      "352/352 - 4s - loss: 1.1129e-05 - accuracy: 0.9964\n",
      "Epoch 27/100\n",
      "352/352 - 3s - loss: 1.0632e-05 - accuracy: 0.9972\n",
      "Epoch 28/100\n",
      "352/352 - 4s - loss: 1.2866e-05 - accuracy: 0.9957\n",
      "Epoch 29/100\n",
      "352/352 - 4s - loss: 1.1533e-05 - accuracy: 0.9963\n",
      "Epoch 30/100\n",
      "352/352 - 3s - loss: 9.9735e-06 - accuracy: 0.9970\n",
      "Epoch 31/100\n",
      "352/352 - 3s - loss: 1.1045e-05 - accuracy: 0.9966\n",
      "Epoch 32/100\n",
      "352/352 - 3s - loss: 9.6210e-06 - accuracy: 0.9977\n",
      "Epoch 33/100\n",
      "352/352 - 4s - loss: 2.6711e-04 - accuracy: 0.9504\n",
      "Epoch 34/100\n",
      "352/352 - 3s - loss: 2.8570e-05 - accuracy: 0.9950\n",
      "Epoch 35/100\n",
      "352/352 - 3s - loss: 1.2074e-05 - accuracy: 0.9972\n",
      "Epoch 36/100\n",
      "352/352 - 4s - loss: 1.0722e-05 - accuracy: 0.9968\n",
      "Epoch 37/100\n",
      "352/352 - 3s - loss: 9.1292e-06 - accuracy: 0.9972\n",
      "Epoch 38/100\n",
      "352/352 - 3s - loss: 9.4611e-06 - accuracy: 0.9973\n",
      "Epoch 39/100\n",
      "352/352 - 3s - loss: 1.0030e-05 - accuracy: 0.9970\n",
      "Epoch 40/100\n",
      "352/352 - 3s - loss: 9.8342e-06 - accuracy: 0.9972\n",
      "Epoch 41/100\n",
      "352/352 - 4s - loss: 9.3174e-06 - accuracy: 0.9973\n",
      "Epoch 42/100\n",
      "352/352 - 3s - loss: 8.9813e-06 - accuracy: 0.9973\n",
      "Epoch 43/100\n",
      "352/352 - 3s - loss: 9.3208e-06 - accuracy: 0.9973\n",
      "Epoch 44/100\n",
      "352/352 - 3s - loss: 1.0338e-05 - accuracy: 0.9975\n",
      "Epoch 45/100\n",
      "352/352 - 4s - loss: 2.4710e-04 - accuracy: 0.9550\n",
      "Epoch 46/100\n",
      "352/352 - 3s - loss: 2.9377e-05 - accuracy: 0.9950\n",
      "Epoch 47/100\n",
      "352/352 - 3s - loss: 9.5756e-06 - accuracy: 0.9973\n",
      "Epoch 48/100\n",
      "352/352 - 4s - loss: 1.1035e-05 - accuracy: 0.9970\n",
      "Epoch 49/100\n",
      "352/352 - 3s - loss: 8.8864e-06 - accuracy: 0.9972\n",
      "Epoch 50/100\n",
      "352/352 - 3s - loss: 8.7115e-06 - accuracy: 0.9966\n",
      "Epoch 51/100\n",
      "352/352 - 3s - loss: 8.7197e-06 - accuracy: 0.9970\n",
      "Epoch 52/100\n",
      "352/352 - 4s - loss: 9.6593e-06 - accuracy: 0.9972\n",
      "Epoch 53/100\n",
      "352/352 - 4s - loss: 9.4780e-06 - accuracy: 0.9970\n",
      "Epoch 54/100\n",
      "352/352 - 3s - loss: 9.0667e-06 - accuracy: 0.9959\n",
      "Epoch 55/100\n",
      "352/352 - 3s - loss: 8.5727e-06 - accuracy: 0.9972\n",
      "Epoch 56/100\n",
      "352/352 - 3s - loss: 9.5256e-06 - accuracy: 0.9963\n",
      "Epoch 57/100\n",
      "352/352 - 3s - loss: 9.5202e-06 - accuracy: 0.9972\n",
      "Epoch 58/100\n",
      "352/352 - 3s - loss: 8.7769e-06 - accuracy: 0.9966\n",
      "Epoch 59/100\n",
      "352/352 - 3s - loss: 8.6275e-06 - accuracy: 0.9970\n",
      "Epoch 60/100\n",
      "352/352 - 3s - loss: 1.5248e-04 - accuracy: 0.9700\n",
      "Epoch 61/100\n",
      "352/352 - 4s - loss: 5.0622e-05 - accuracy: 0.9911\n",
      "Epoch 62/100\n",
      "352/352 - 3s - loss: 1.1245e-05 - accuracy: 0.9970\n",
      "Epoch 63/100\n",
      "352/352 - 4s - loss: 9.4491e-06 - accuracy: 0.9970\n",
      "Epoch 64/100\n",
      "352/352 - 4s - loss: 8.6227e-06 - accuracy: 0.9970\n",
      "Epoch 65/100\n",
      "352/352 - 4s - loss: 9.3779e-06 - accuracy: 0.9970\n",
      "Epoch 66/100\n",
      "352/352 - 4s - loss: 8.8273e-06 - accuracy: 0.9964\n",
      "Epoch 67/100\n",
      "352/352 - 4s - loss: 8.6912e-06 - accuracy: 0.9961\n",
      "Epoch 68/100\n",
      "352/352 - 4s - loss: 8.4379e-06 - accuracy: 0.9970\n",
      "Epoch 69/100\n",
      "352/352 - 3s - loss: 8.0130e-06 - accuracy: 0.9970\n",
      "Epoch 70/100\n",
      "352/352 - 4s - loss: 8.5391e-06 - accuracy: 0.9961\n",
      "Epoch 71/100\n",
      "352/352 - 4s - loss: 8.4490e-06 - accuracy: 0.9968\n",
      "Epoch 72/100\n",
      "352/352 - 4s - loss: 8.5790e-06 - accuracy: 0.9975\n",
      "Epoch 73/100\n",
      "352/352 - 4s - loss: 8.8047e-06 - accuracy: 0.9972\n",
      "Epoch 74/100\n",
      "352/352 - 3s - loss: 1.6349e-04 - accuracy: 0.9714\n",
      "Epoch 75/100\n",
      "352/352 - 3s - loss: 3.0152e-05 - accuracy: 0.9938\n",
      "Epoch 76/100\n",
      "352/352 - 3s - loss: 9.3212e-06 - accuracy: 0.9972\n",
      "Epoch 77/100\n",
      "352/352 - 4s - loss: 8.9044e-06 - accuracy: 0.9970\n",
      "Epoch 78/100\n",
      "352/352 - 3s - loss: 8.4366e-06 - accuracy: 0.9966\n",
      "Epoch 79/100\n",
      "352/352 - 4s - loss: 8.0691e-06 - accuracy: 0.9968\n",
      "Epoch 80/100\n",
      "352/352 - 4s - loss: 8.6024e-06 - accuracy: 0.9964\n",
      "Epoch 81/100\n",
      "352/352 - 4s - loss: 7.8675e-06 - accuracy: 0.9970\n",
      "Epoch 82/100\n",
      "352/352 - 4s - loss: 8.3520e-06 - accuracy: 0.9970\n",
      "Epoch 83/100\n",
      "352/352 - 3s - loss: 8.6653e-06 - accuracy: 0.9977\n",
      "Epoch 84/100\n",
      "352/352 - 3s - loss: 9.1563e-06 - accuracy: 0.9972\n",
      "Epoch 85/100\n",
      "352/352 - 4s - loss: 8.1483e-06 - accuracy: 0.9977\n",
      "Epoch 86/100\n",
      "352/352 - 4s - loss: 8.5698e-06 - accuracy: 0.9979\n",
      "Epoch 87/100\n",
      "352/352 - 3s - loss: 8.9816e-06 - accuracy: 0.9968\n",
      "Epoch 88/100\n",
      "352/352 - 4s - loss: 8.0610e-06 - accuracy: 0.9980\n",
      "Epoch 89/100\n",
      "352/352 - 4s - loss: 9.1642e-06 - accuracy: 0.9970\n",
      "Epoch 90/100\n",
      "352/352 - 4s - loss: 1.5034e-04 - accuracy: 0.9719\n",
      "Epoch 91/100\n",
      "352/352 - 3s - loss: 1.7448e-05 - accuracy: 0.9959\n",
      "Epoch 92/100\n",
      "352/352 - 4s - loss: 8.3482e-06 - accuracy: 0.9977\n",
      "Epoch 93/100\n",
      "352/352 - 3s - loss: 8.7178e-06 - accuracy: 0.9975\n",
      "Epoch 94/100\n",
      "352/352 - 4s - loss: 8.1863e-06 - accuracy: 0.9972\n",
      "Epoch 95/100\n",
      "352/352 - 4s - loss: 8.7165e-06 - accuracy: 0.9966\n",
      "Epoch 96/100\n",
      "352/352 - 4s - loss: 8.1264e-06 - accuracy: 0.9972\n",
      "Epoch 97/100\n",
      "352/352 - 4s - loss: 8.4606e-06 - accuracy: 0.9963\n",
      "Epoch 98/100\n",
      "352/352 - 3s - loss: 8.0352e-06 - accuracy: 0.9966\n",
      "Epoch 99/100\n",
      "352/352 - 3s - loss: 8.1768e-06 - accuracy: 0.9966\n",
      "Epoch 100/100\n",
      "352/352 - 3s - loss: 8.6679e-06 - accuracy: 0.9970\n"
     ]
    }
   ],
   "source": [
    "hist2 = model.fit(X_train, Y_train, batch_size=16, epochs=100, shuffle=True, verbose=2)"
   ]
  },
  {
   "cell_type": "code",
   "execution_count": 43,
   "metadata": {},
   "outputs": [],
   "source": [
    "val3 = hist2.history['accuracy'][9]"
   ]
  },
  {
   "cell_type": "code",
   "execution_count": 65,
   "metadata": {},
   "outputs": [
    {
     "data": {
      "image/png": "[encoded data removed]",
      "text/plain": [
       "<Figure size 1440x720 with 1 Axes>"
      ]
     },
     "metadata": {
      "needs_background": "light"
     },
     "output_type": "display_data"
    }
   ],
   "source": [
    "import matplotlib.pyplot as plt\n",
    "\n",
    "x=hist2\n",
    "plt.figure(figsize=(20,10))\n",
    "plt.subplot(1, 2, 1)\n",
    "plt.suptitle('Optimizer : adam', fontsize=10)\n",
    "plt.ylabel('Loss', fontsize=16)\n",
    "#plt.plot(x.history['loss'], label='Training Loss')\n",
    "plt.plot(x.history['accuracy'], label='Training Accuracy')\n",
    "plt.show()"
   ]
  },
  {
   "cell_type": "markdown",
   "metadata": {},
   "source": [
    "# miniAlexNet"
   ]
  },
  {
   "cell_type": "code",
   "execution_count": 66,
   "metadata": {},
   "outputs": [],
   "source": [
    "model = Sequential()\n",
    "model.add(Convolution2D(32, 3, 3, input_shape = (64, 64, 3), activation = 'relu'))\n",
    "model.add(MaxPooling2D(pool_size = (2, 2)))\n",
    "model.add(Convolution2D(32, 3, 3, activation = 'relu'))\n",
    "model.add(MaxPooling2D(pool_size = (2, 2)))\n",
    "model.add(Convolution2D(filters = 16, kernel_size = (3,3),padding = 'Same', \n",
    "                 activation ='relu'))\n",
    "#model.add(MaxPooling2D(pool_size=(2,2), strides=(2,2)))\n",
    "model.add(Dropout(0.25))\n",
    "model.add(Flatten())\n",
    "model.add(Dense(units = 256, activation = 'relu'))\n",
    "model.add(Dense(units = Y_train.shape[1], activation = 'softmax'))\n"
   ]
  },
  {
   "cell_type": "code",
   "execution_count": 67,
   "metadata": {},
   "outputs": [
    {
     "name": "stdout",
     "output_type": "stream",
     "text": [
      "Model: \"sequential_14\"\n",
      "_________________________________________________________________\n",
      "Layer (type)                 Output Shape              Param #   \n",
      "=================================================================\n",
      "conv2d_23 (Conv2D)           (None, 21, 21, 32)        896       \n",
      "_________________________________________________________________\n",
      "max_pooling2d_19 (MaxPooling (None, 10, 10, 32)        0         \n",
      "_________________________________________________________________\n",
      "conv2d_24 (Conv2D)           (None, 3, 3, 32)          9248      \n",
      "_________________________________________________________________\n",
      "max_pooling2d_20 (MaxPooling (None, 1, 1, 32)          0         \n",
      "_________________________________________________________________\n",
      "conv2d_25 (Conv2D)           (None, 1, 1, 16)          4624      \n",
      "_________________________________________________________________\n",
      "dropout_2 (Dropout)          (None, 1, 1, 16)          0         \n",
      "_________________________________________________________________\n",
      "flatten_3 (Flatten)          (None, 16)                0         \n",
      "_________________________________________________________________\n",
      "dense_14 (Dense)             (None, 256)               4352      \n",
      "_________________________________________________________________\n",
      "dense_15 (Dense)             (None, 1126)              289382    \n",
      "=================================================================\n",
      "Total params: 308,502\n",
      "Trainable params: 308,502\n",
      "Non-trainable params: 0\n",
      "_________________________________________________________________\n",
      "None\n"
     ]
    }
   ],
   "source": [
    "print(model.summary())\n",
    "model.compile(optimizer = 'adam', loss = 'binary_crossentropy', metrics = ['accuracy'])"
   ]
  },
  {
   "cell_type": "code",
   "execution_count": 29,
   "metadata": {},
   "outputs": [
    {
     "name": "stdout",
     "output_type": "stream",
     "text": [
      "Epoch 1/100\n",
      "352/352 - 4s - loss: 7.9634e-06 - accuracy: 0.9968\n",
      "Epoch 2/100\n",
      "352/352 - 4s - loss: 8.4290e-06 - accuracy: 0.9972\n",
      "Epoch 3/100\n",
      "352/352 - 4s - loss: 8.3515e-06 - accuracy: 0.9964\n",
      "Epoch 4/100\n",
      "352/352 - 3s - loss: 7.9967e-06 - accuracy: 0.9982\n",
      "Epoch 5/100\n",
      "352/352 - 3s - loss: 8.3857e-06 - accuracy: 0.9968\n",
      "Epoch 6/100\n",
      "352/352 - 3s - loss: 8.1131e-06 - accuracy: 0.9963\n",
      "Epoch 7/100\n",
      "352/352 - 3s - loss: 7.8434e-06 - accuracy: 0.9968\n",
      "Epoch 8/100\n",
      "352/352 - 3s - loss: 7.9787e-06 - accuracy: 0.9972\n",
      "Epoch 9/100\n",
      "352/352 - 3s - loss: 8.4426e-06 - accuracy: 0.9964\n",
      "Epoch 10/100\n",
      "352/352 - 4s - loss: 1.6333e-04 - accuracy: 0.9710\n",
      "Epoch 11/100\n",
      "352/352 - 4s - loss: 8.8054e-06 - accuracy: 0.9979\n",
      "Epoch 12/100\n",
      "352/352 - 3s - loss: 9.0041e-06 - accuracy: 0.9970\n",
      "Epoch 13/100\n",
      "352/352 - 3s - loss: 8.5166e-06 - accuracy: 0.9964\n",
      "Epoch 14/100\n",
      "352/352 - 3s - loss: 8.1352e-06 - accuracy: 0.9966\n",
      "Epoch 15/100\n",
      "352/352 - 3s - loss: 8.0643e-06 - accuracy: 0.9963\n",
      "Epoch 16/100\n",
      "352/352 - 4s - loss: 7.7437e-06 - accuracy: 0.9966\n",
      "Epoch 17/100\n",
      "352/352 - 3s - loss: 7.8220e-06 - accuracy: 0.9972\n",
      "Epoch 18/100\n",
      "352/352 - 3s - loss: 7.8568e-06 - accuracy: 0.9966\n",
      "Epoch 19/100\n",
      "352/352 - 3s - loss: 8.2639e-06 - accuracy: 0.9968\n",
      "Epoch 20/100\n",
      "352/352 - 3s - loss: 7.9140e-06 - accuracy: 0.9963\n",
      "Epoch 21/100\n",
      "352/352 - 3s - loss: 8.9892e-06 - accuracy: 0.9966\n",
      "Epoch 22/100\n",
      "352/352 - 3s - loss: 8.0755e-06 - accuracy: 0.9972\n",
      "Epoch 23/100\n",
      "352/352 - 3s - loss: 9.0264e-06 - accuracy: 0.9964\n",
      "Epoch 24/100\n",
      "352/352 - 3s - loss: 8.8657e-06 - accuracy: 0.9963\n",
      "Epoch 25/100\n",
      "352/352 - 3s - loss: 9.3286e-06 - accuracy: 0.9973\n",
      "Epoch 26/100\n",
      "352/352 - 3s - loss: 8.5775e-05 - accuracy: 0.9852\n",
      "Epoch 27/100\n",
      "352/352 - 3s - loss: 1.3437e-05 - accuracy: 0.9966\n",
      "Epoch 28/100\n",
      "352/352 - 3s - loss: 7.8053e-06 - accuracy: 0.9968\n",
      "Epoch 29/100\n",
      "352/352 - 4s - loss: 8.5672e-06 - accuracy: 0.9966\n",
      "Epoch 30/100\n",
      "352/352 - 4s - loss: 7.7015e-06 - accuracy: 0.9966\n",
      "Epoch 31/100\n",
      "352/352 - 4s - loss: 7.5559e-06 - accuracy: 0.9968\n",
      "Epoch 32/100\n",
      "352/352 - 3s - loss: 8.0275e-06 - accuracy: 0.9964\n",
      "Epoch 33/100\n",
      "352/352 - 3s - loss: 7.5654e-06 - accuracy: 0.9972\n",
      "Epoch 34/100\n",
      "352/352 - 4s - loss: 7.8063e-06 - accuracy: 0.9966\n",
      "Epoch 35/100\n",
      "352/352 - 3s - loss: 7.9280e-06 - accuracy: 0.9968\n",
      "Epoch 36/100\n",
      "352/352 - 3s - loss: 7.7466e-06 - accuracy: 0.9963\n",
      "Epoch 37/100\n",
      "352/352 - 4s - loss: 8.6840e-06 - accuracy: 0.9966\n",
      "Epoch 38/100\n",
      "352/352 - 3s - loss: 7.8905e-06 - accuracy: 0.9966\n",
      "Epoch 39/100\n",
      "352/352 - 3s - loss: 8.1527e-06 - accuracy: 0.9961\n",
      "Epoch 40/100\n",
      "352/352 - 3s - loss: 8.1108e-06 - accuracy: 0.9964\n",
      "Epoch 41/100\n",
      "352/352 - 3s - loss: 1.0973e-04 - accuracy: 0.9788\n",
      "Epoch 42/100\n",
      "352/352 - 3s - loss: 1.2186e-05 - accuracy: 0.9959\n",
      "Epoch 43/100\n",
      "352/352 - 3s - loss: 9.1397e-06 - accuracy: 0.9970\n",
      "Epoch 44/100\n",
      "352/352 - 3s - loss: 7.6303e-06 - accuracy: 0.9973\n",
      "Epoch 45/100\n",
      "352/352 - 3s - loss: 7.8088e-06 - accuracy: 0.9972\n",
      "Epoch 46/100\n",
      "352/352 - 4s - loss: 8.1426e-06 - accuracy: 0.9963\n",
      "Epoch 47/100\n",
      "352/352 - 3s - loss: 7.7915e-06 - accuracy: 0.9968\n",
      "Epoch 48/100\n",
      "352/352 - 4s - loss: 8.0172e-06 - accuracy: 0.9970\n",
      "Epoch 49/100\n",
      "352/352 - 4s - loss: 7.7102e-06 - accuracy: 0.9970\n",
      "Epoch 50/100\n",
      "352/352 - 4s - loss: 7.8967e-06 - accuracy: 0.9972\n",
      "Epoch 51/100\n",
      "352/352 - 4s - loss: 7.7116e-06 - accuracy: 0.9963\n",
      "Epoch 52/100\n",
      "352/352 - 3s - loss: 7.8575e-06 - accuracy: 0.9961\n",
      "Epoch 53/100\n",
      "352/352 - 3s - loss: 7.7577e-06 - accuracy: 0.9963\n",
      "Epoch 54/100\n",
      "352/352 - 3s - loss: 8.2429e-06 - accuracy: 0.9968\n",
      "Epoch 55/100\n",
      "352/352 - 4s - loss: 8.3080e-06 - accuracy: 0.9966\n",
      "Epoch 56/100\n",
      "352/352 - 4s - loss: 7.6074e-06 - accuracy: 0.9979\n",
      "Epoch 57/100\n",
      "352/352 - 4s - loss: 5.2412e-05 - accuracy: 0.9886\n",
      "Epoch 58/100\n",
      "352/352 - 3s - loss: 6.6177e-05 - accuracy: 0.9884\n",
      "Epoch 59/100\n",
      "352/352 - 3s - loss: 2.2913e-05 - accuracy: 0.9948\n",
      "Epoch 60/100\n",
      "352/352 - 3s - loss: 8.3030e-06 - accuracy: 0.9970\n",
      "Epoch 61/100\n",
      "352/352 - 3s - loss: 7.5375e-06 - accuracy: 0.9975\n",
      "Epoch 62/100\n",
      "352/352 - 3s - loss: 8.4070e-06 - accuracy: 0.9963\n",
      "Epoch 63/100\n",
      "352/352 - 4s - loss: 7.7340e-06 - accuracy: 0.9968\n",
      "Epoch 64/100\n",
      "352/352 - 4s - loss: 7.4473e-06 - accuracy: 0.9973\n",
      "Epoch 65/100\n",
      "352/352 - 3s - loss: 7.6878e-06 - accuracy: 0.9966\n",
      "Epoch 66/100\n",
      "352/352 - 3s - loss: 7.6468e-06 - accuracy: 0.9959\n",
      "Epoch 67/100\n",
      "352/352 - 3s - loss: 7.6680e-06 - accuracy: 0.9968\n",
      "Epoch 68/100\n",
      "352/352 - 3s - loss: 7.6638e-06 - accuracy: 0.9970\n",
      "Epoch 69/100\n",
      "352/352 - 3s - loss: 7.7897e-06 - accuracy: 0.9975\n",
      "Epoch 70/100\n",
      "352/352 - 3s - loss: 7.9424e-06 - accuracy: 0.9973\n",
      "Epoch 71/100\n",
      "352/352 - 3s - loss: 8.3466e-06 - accuracy: 0.9968\n",
      "Epoch 72/100\n",
      "352/352 - 4s - loss: 8.2038e-06 - accuracy: 0.9970\n",
      "Epoch 73/100\n",
      "352/352 - 4s - loss: 8.3580e-06 - accuracy: 0.9970\n",
      "Epoch 74/100\n",
      "352/352 - 3s - loss: 6.1826e-05 - accuracy: 0.9890\n",
      "Epoch 75/100\n",
      "352/352 - 4s - loss: 4.5186e-05 - accuracy: 0.9906\n",
      "Epoch 76/100\n",
      "352/352 - 4s - loss: 8.9544e-06 - accuracy: 0.9970\n",
      "Epoch 77/100\n",
      "352/352 - 4s - loss: 7.8813e-06 - accuracy: 0.9970\n",
      "Epoch 78/100\n",
      "352/352 - 4s - loss: 7.6092e-06 - accuracy: 0.9968\n",
      "Epoch 79/100\n",
      "352/352 - 4s - loss: 8.0792e-06 - accuracy: 0.9963\n",
      "Epoch 80/100\n",
      "352/352 - 4s - loss: 7.4529e-06 - accuracy: 0.9970\n",
      "Epoch 81/100\n",
      "352/352 - 5s - loss: 7.6521e-06 - accuracy: 0.9968\n",
      "Epoch 82/100\n",
      "352/352 - 4s - loss: 7.7662e-06 - accuracy: 0.9961\n",
      "Epoch 83/100\n",
      "352/352 - 5s - loss: 7.8353e-06 - accuracy: 0.9972\n",
      "Epoch 84/100\n",
      "352/352 - 5s - loss: 7.6690e-06 - accuracy: 0.9966\n",
      "Epoch 85/100\n",
      "352/352 - 5s - loss: 7.8696e-06 - accuracy: 0.9968\n",
      "Epoch 86/100\n",
      "352/352 - 4s - loss: 7.6099e-06 - accuracy: 0.9972\n",
      "Epoch 87/100\n",
      "352/352 - 4s - loss: 8.6727e-06 - accuracy: 0.9975\n",
      "Epoch 88/100\n",
      "352/352 - 4s - loss: 8.2520e-06 - accuracy: 0.9968\n",
      "Epoch 89/100\n",
      "352/352 - 4s - loss: 2.1354e-05 - accuracy: 0.9947\n",
      "Epoch 90/100\n",
      "352/352 - 4s - loss: 5.1012e-05 - accuracy: 0.9906\n",
      "Epoch 91/100\n",
      "352/352 - 4s - loss: 8.6502e-06 - accuracy: 0.9968\n",
      "Epoch 92/100\n",
      "352/352 - 4s - loss: 8.0635e-06 - accuracy: 0.9964\n",
      "Epoch 93/100\n",
      "352/352 - 4s - loss: 7.2558e-06 - accuracy: 0.9973\n",
      "Epoch 94/100\n",
      "352/352 - 4s - loss: 8.1418e-06 - accuracy: 0.9972\n",
      "Epoch 95/100\n",
      "352/352 - 4s - loss: 7.5804e-06 - accuracy: 0.9968\n",
      "Epoch 96/100\n",
      "352/352 - 4s - loss: 7.5293e-06 - accuracy: 0.9959\n",
      "Epoch 97/100\n",
      "352/352 - 3s - loss: 7.0286e-06 - accuracy: 0.9977\n",
      "Epoch 98/100\n",
      "352/352 - 4s - loss: 8.1082e-06 - accuracy: 0.9961\n",
      "Epoch 99/100\n",
      "352/352 - 3s - loss: 7.4902e-06 - accuracy: 0.9972\n",
      "Epoch 100/100\n",
      "352/352 - 3s - loss: 8.1812e-06 - accuracy: 0.9970\n"
     ]
    }
   ],
   "source": [
    "hist3 = model.fit(X_train, Y_train, batch_size=16, epochs=100, shuffle=True, verbose=2)"
   ]
  },
  {
   "cell_type": "code",
   "execution_count": 30,
   "metadata": {},
   "outputs": [],
   "source": [
    "val4 = hist3.history['accuracy'][99]"
   ]
  },
  {
   "cell_type": "code",
   "execution_count": 64,
   "metadata": {},
   "outputs": [
    {
     "data": {
      "image/png": "[encoded data removed]",
      "text/plain": [
       "<Figure size 1440x720 with 1 Axes>"
      ]
     },
     "metadata": {
      "needs_background": "light"
     },
     "output_type": "display_data"
    }
   ],
   "source": [
    "import matplotlib.pyplot as plt\n",
    "\n",
    "x=hist3\n",
    "plt.figure(figsize=(20,10))\n",
    "plt.subplot(1, 2, 1)\n",
    "plt.suptitle('Optimizer : adam', fontsize=10)\n",
    "plt.ylabel('Loss', fontsize=16)\n",
    "\n",
    "plt.plot(x.history['accuracy'], label='Training Accuracy')\n",
    "plt.show()"
   ]
  },
  {
   "cell_type": "markdown",
   "metadata": {},
   "source": [
    "# CNN with 2 FullyConnected Layer "
   ]
  },
  {
   "cell_type": "code",
   "execution_count": 34,
   "metadata": {},
   "outputs": [],
   "source": [
    "model = Sequential()\n",
    "model.add(Convolution2D(32, 3, 3, input_shape = (64, 64, 3), activation = 'relu'))\n",
    "model.add(MaxPooling2D(pool_size = (2, 2)))\n",
    "model.add(Convolution2D(32, 3, 3, activation = 'relu'))\n",
    "model.add(MaxPooling2D(pool_size = (2, 2)))\n",
    "model.add(Convolution2D(filters = 16, kernel_size = (3,3),padding = 'Same', \n",
    "                 activation ='relu'))\n",
    "#model.add(MaxPooling2D(pool_size=(2,2), strides=(2,2)))\n",
    "model.add(Dropout(0.25))\n",
    "model.add(Convolution2D(filters = 16, kernel_size = (3,3),padding = 'Same', \n",
    "                 activation ='relu'))\n",
    "#model.add(MaxPooling2D(pool_size=(2,2), strides=(2,2)))\n",
    "model.add(Dropout(0.25))\n",
    "model.add(Convolution2D(filters = 8, kernel_size = (3,3),padding = 'Same', \n",
    "                 activation ='relu'))\n",
    "#model.add(MaxPooling2D(pool_size=(2,2), strides=(2,2)))\n",
    "model.add(Dropout(0.25))\n",
    "model.add(Convolution2D(filters = 4, kernel_size = (3,3),padding = 'Same', \n",
    "                 activation ='relu'))\n",
    "#model.add(MaxPooling2D(pool_size=(2,2), strides=(2,2)))\n",
    "model.add(Dropout(0.25))\n",
    "model.add(Flatten())\n",
    "\n",
    "model.add(Dropout(0.25))\n",
    "model.add(Flatten())\n",
    "model.add(Dense(units = 256, activation = 'relu'))\n",
    "model.add(Dense(units = Y_train.shape[1], activation = 'softmax'))\n"
   ]
  },
  {
   "cell_type": "code",
   "execution_count": 35,
   "metadata": {},
   "outputs": [
    {
     "name": "stdout",
     "output_type": "stream",
     "text": [
      "Model: \"sequential_2\"\n",
      "_________________________________________________________________\n",
      "Layer (type)                 Output Shape              Param #   \n",
      "=================================================================\n",
      "conv2d_4 (Conv2D)            (None, 21, 21, 32)        896       \n",
      "_________________________________________________________________\n",
      "max_pooling2d_4 (MaxPooling2 (None, 10, 10, 32)        0         \n",
      "_________________________________________________________________\n",
      "conv2d_5 (Conv2D)            (None, 3, 3, 32)          9248      \n",
      "_________________________________________________________________\n",
      "max_pooling2d_5 (MaxPooling2 (None, 1, 1, 32)          0         \n",
      "_________________________________________________________________\n",
      "conv2d_6 (Conv2D)            (None, 1, 1, 16)          4624      \n",
      "_________________________________________________________________\n",
      "dropout (Dropout)            (None, 1, 1, 16)          0         \n",
      "_________________________________________________________________\n",
      "conv2d_7 (Conv2D)            (None, 1, 1, 16)          2320      \n",
      "_________________________________________________________________\n",
      "dropout_1 (Dropout)          (None, 1, 1, 16)          0         \n",
      "_________________________________________________________________\n",
      "conv2d_8 (Conv2D)            (None, 1, 1, 8)           1160      \n",
      "_________________________________________________________________\n",
      "dropout_2 (Dropout)          (None, 1, 1, 8)           0         \n",
      "_________________________________________________________________\n",
      "conv2d_9 (Conv2D)            (None, 1, 1, 4)           292       \n",
      "_________________________________________________________________\n",
      "dropout_3 (Dropout)          (None, 1, 1, 4)           0         \n",
      "_________________________________________________________________\n",
      "flatten_2 (Flatten)          (None, 4)                 0         \n",
      "_________________________________________________________________\n",
      "dropout_4 (Dropout)          (None, 4)                 0         \n",
      "_________________________________________________________________\n",
      "flatten_3 (Flatten)          (None, 4)                 0         \n",
      "_________________________________________________________________\n",
      "dense_6 (Dense)              (None, 256)               1280      \n",
      "_________________________________________________________________\n",
      "dense_7 (Dense)              (None, 1126)              289382    \n",
      "=================================================================\n",
      "Total params: 309,202\n",
      "Trainable params: 309,202\n",
      "Non-trainable params: 0\n",
      "_________________________________________________________________\n",
      "None\n"
     ]
    }
   ],
   "source": [
    "print(model.summary())\n",
    "model.compile(optimizer = 'adam', loss = 'binary_crossentropy')"
   ]
  },
  {
   "cell_type": "code",
   "execution_count": 36,
   "metadata": {},
   "outputs": [
    {
     "name": "stdout",
     "output_type": "stream",
     "text": [
      "Epoch 1/100\n",
      "352/352 - 4s - loss: 0.0071\n",
      "Epoch 2/100\n",
      "352/352 - 4s - loss: 0.0071\n",
      "Epoch 3/100\n",
      "352/352 - 4s - loss: 0.0071\n",
      "Epoch 4/100\n",
      "352/352 - 4s - loss: 0.0071\n",
      "Epoch 5/100\n",
      "352/352 - 4s - loss: 0.0071\n",
      "Epoch 6/100\n",
      "352/352 - 4s - loss: 0.0071\n",
      "Epoch 7/100\n",
      "352/352 - 4s - loss: 0.0071\n",
      "Epoch 8/100\n",
      "352/352 - 4s - loss: 0.0071\n",
      "Epoch 9/100\n",
      "352/352 - 4s - loss: 0.0071\n",
      "Epoch 10/100\n",
      "352/352 - 4s - loss: 0.0071\n",
      "Epoch 11/100\n",
      "352/352 - 4s - loss: 0.0071\n",
      "Epoch 12/100\n",
      "352/352 - 4s - loss: 0.0071\n",
      "Epoch 13/100\n",
      "352/352 - 4s - loss: 0.0071\n",
      "Epoch 14/100\n",
      "352/352 - 4s - loss: 0.0071\n",
      "Epoch 15/100\n",
      "352/352 - 4s - loss: 0.0071\n",
      "Epoch 16/100\n",
      "352/352 - 4s - loss: 0.0071\n",
      "Epoch 17/100\n",
      "352/352 - 4s - loss: 0.0071\n",
      "Epoch 18/100\n",
      "352/352 - 4s - loss: 0.0071\n",
      "Epoch 19/100\n",
      "352/352 - 4s - loss: 0.0071\n",
      "Epoch 20/100\n",
      "352/352 - 4s - loss: 0.0071\n",
      "Epoch 21/100\n",
      "352/352 - 4s - loss: 0.0071\n",
      "Epoch 22/100\n",
      "352/352 - 4s - loss: 0.0071\n",
      "Epoch 23/100\n",
      "352/352 - 4s - loss: 0.0071\n",
      "Epoch 24/100\n",
      "352/352 - 4s - loss: 0.0071\n",
      "Epoch 25/100\n",
      "352/352 - 4s - loss: 0.0071\n",
      "Epoch 26/100\n",
      "352/352 - 4s - loss: 0.0071\n",
      "Epoch 27/100\n",
      "352/352 - 4s - loss: 0.0071\n",
      "Epoch 28/100\n",
      "352/352 - 4s - loss: 0.0071\n",
      "Epoch 29/100\n",
      "352/352 - 4s - loss: 0.0071\n",
      "Epoch 30/100\n",
      "352/352 - 4s - loss: 0.0071\n",
      "Epoch 31/100\n",
      "352/352 - 4s - loss: 0.0071\n",
      "Epoch 32/100\n",
      "352/352 - 4s - loss: 0.0071\n",
      "Epoch 33/100\n",
      "352/352 - 4s - loss: 0.0071\n",
      "Epoch 34/100\n",
      "352/352 - 4s - loss: 0.0071\n",
      "Epoch 35/100\n",
      "352/352 - 5s - loss: 0.0071\n",
      "Epoch 36/100\n",
      "352/352 - 4s - loss: 0.0071\n",
      "Epoch 37/100\n",
      "352/352 - 4s - loss: 0.0071\n",
      "Epoch 38/100\n",
      "352/352 - 4s - loss: 0.0071\n",
      "Epoch 39/100\n",
      "352/352 - 4s - loss: 0.0071\n",
      "Epoch 40/100\n",
      "352/352 - 4s - loss: 0.0071\n",
      "Epoch 41/100\n",
      "352/352 - 4s - loss: 0.0071\n",
      "Epoch 42/100\n",
      "352/352 - 4s - loss: 0.0071\n",
      "Epoch 43/100\n",
      "352/352 - 4s - loss: 0.0071\n",
      "Epoch 44/100\n",
      "352/352 - 5s - loss: 0.0071\n",
      "Epoch 45/100\n",
      "352/352 - 4s - loss: 0.0071\n",
      "Epoch 46/100\n",
      "352/352 - 4s - loss: 0.0071\n",
      "Epoch 47/100\n",
      "352/352 - 4s - loss: 0.0071\n",
      "Epoch 48/100\n",
      "352/352 - 4s - loss: 0.0071\n",
      "Epoch 49/100\n",
      "352/352 - 4s - loss: 0.0071\n",
      "Epoch 50/100\n",
      "352/352 - 4s - loss: 0.0071\n",
      "Epoch 51/100\n",
      "352/352 - 4s - loss: 0.0071\n",
      "Epoch 52/100\n",
      "352/352 - 4s - loss: 0.0071\n",
      "Epoch 53/100\n",
      "352/352 - 4s - loss: 0.0071\n",
      "Epoch 54/100\n",
      "352/352 - 4s - loss: 0.0071\n",
      "Epoch 55/100\n",
      "352/352 - 4s - loss: 0.0071\n",
      "Epoch 56/100\n",
      "352/352 - 4s - loss: 0.0071\n",
      "Epoch 57/100\n",
      "352/352 - 4s - loss: 0.0071\n",
      "Epoch 58/100\n",
      "352/352 - 4s - loss: 0.0071\n",
      "Epoch 59/100\n",
      "352/352 - 4s - loss: 0.0071\n",
      "Epoch 60/100\n",
      "352/352 - 4s - loss: 0.0071\n",
      "Epoch 61/100\n",
      "352/352 - 5s - loss: 0.0071\n",
      "Epoch 62/100\n",
      "352/352 - 4s - loss: 0.0071\n",
      "Epoch 63/100\n",
      "352/352 - 4s - loss: 0.0071\n",
      "Epoch 64/100\n",
      "352/352 - 4s - loss: 0.0071\n",
      "Epoch 65/100\n",
      "352/352 - 4s - loss: 0.0071\n",
      "Epoch 66/100\n",
      "352/352 - 4s - loss: 0.0071\n",
      "Epoch 67/100\n",
      "352/352 - 4s - loss: 0.0071\n",
      "Epoch 68/100\n",
      "352/352 - 4s - loss: 0.0071\n",
      "Epoch 69/100\n",
      "352/352 - 5s - loss: 0.0071\n",
      "Epoch 70/100\n",
      "352/352 - 4s - loss: 0.0071\n",
      "Epoch 71/100\n",
      "352/352 - 4s - loss: 0.0071\n",
      "Epoch 72/100\n",
      "352/352 - 4s - loss: 0.0071\n",
      "Epoch 73/100\n",
      "352/352 - 4s - loss: 0.0071\n",
      "Epoch 74/100\n",
      "352/352 - 4s - loss: 0.0071\n",
      "Epoch 75/100\n",
      "352/352 - 4s - loss: 0.0071\n",
      "Epoch 76/100\n",
      "352/352 - 4s - loss: 0.0071\n",
      "Epoch 77/100\n",
      "352/352 - 4s - loss: 0.0071\n",
      "Epoch 78/100\n",
      "352/352 - 4s - loss: 0.0071\n",
      "Epoch 79/100\n",
      "352/352 - 4s - loss: 0.0071\n",
      "Epoch 80/100\n",
      "352/352 - 4s - loss: 0.0071\n",
      "Epoch 81/100\n",
      "352/352 - 4s - loss: 0.0071\n",
      "Epoch 82/100\n",
      "352/352 - 4s - loss: 0.0071\n",
      "Epoch 83/100\n",
      "352/352 - 4s - loss: 0.0071\n",
      "Epoch 84/100\n",
      "352/352 - 4s - loss: 0.0071\n",
      "Epoch 85/100\n",
      "352/352 - 4s - loss: 0.0071\n",
      "Epoch 86/100\n",
      "352/352 - 4s - loss: 0.0071\n",
      "Epoch 87/100\n",
      "352/352 - 4s - loss: 0.0071\n",
      "Epoch 88/100\n",
      "352/352 - 4s - loss: 0.0071\n",
      "Epoch 89/100\n",
      "352/352 - 4s - loss: 0.0071\n",
      "Epoch 90/100\n",
      "352/352 - 5s - loss: 0.0071\n",
      "Epoch 91/100\n",
      "352/352 - 4s - loss: 0.0071\n",
      "Epoch 92/100\n",
      "352/352 - 4s - loss: 0.0071\n",
      "Epoch 93/100\n",
      "352/352 - 4s - loss: 0.0071\n",
      "Epoch 94/100\n",
      "352/352 - 5s - loss: 0.0071\n",
      "Epoch 95/100\n",
      "352/352 - 4s - loss: 0.0071\n",
      "Epoch 96/100\n",
      "352/352 - 4s - loss: 0.0071\n",
      "Epoch 97/100\n",
      "352/352 - 4s - loss: 0.0071\n",
      "Epoch 98/100\n",
      "352/352 - 4s - loss: 0.0071\n",
      "Epoch 99/100\n",
      "352/352 - 4s - loss: 0.0071\n",
      "Epoch 100/100\n",
      "352/352 - 4s - loss: 0.0071\n"
     ]
    }
   ],
   "source": [
    "hist4 = model.fit(X_train, Y_train, batch_size=16, epochs=100, shuffle=True, verbose=2)"
   ]
  },
  {
   "cell_type": "code",
   "execution_count": 40,
   "metadata": {},
   "outputs": [],
   "source": [
    "val5 = 1 - hist4.history['loss'][99]"
   ]
  },
  {
   "cell_type": "code",
   "execution_count": 41,
   "metadata": {},
   "outputs": [
    {
     "data": {
      "image/png": "[encoded data removed]",
      "text/plain": [
       "<Figure size 1440x720 with 1 Axes>"
      ]
     },
     "metadata": {
      "needs_background": "light"
     },
     "output_type": "display_data"
    }
   ],
   "source": [
    "import matplotlib.pyplot as plt\n",
    "\n",
    "x=hist4\n",
    "plt.figure(figsize=(20,10))\n",
    "plt.subplot(1, 2, 1)\n",
    "plt.suptitle('Optimizer : adam', fontsize=10)\n",
    "plt.ylabel('Loss', fontsize=16)\n",
    "plt.plot(x.history['loss'], label='Training Loss')\n",
    "plt.show()"
   ]
  },
  {
   "cell_type": "markdown",
   "metadata": {},
   "source": [
    "# Comparison"
   ]
  },
  {
   "cell_type": "code",
   "execution_count": 45,
   "metadata": {},
   "outputs": [],
   "source": [
    "score = [val1,val2,val3,val4,val5]"
   ]
  },
  {
   "cell_type": "code",
   "execution_count": 46,
   "metadata": {},
   "outputs": [
    {
     "name": "stdout",
     "output_type": "stream",
     "text": [
      "[0 1 2 3 4]\n",
      "[0.9928679810836911, 0.9983999729156494, 0.9969778060913086, 0.9969778060913086, 0.9928697273135185]\n"
     ]
    }
   ],
   "source": [
    "#make variabel for save the result and to show it\n",
    "classifier = ('Autoencoder CNN','miniVGG','miniGoogleNet','miniAlexNet','CNN + 2 FullyConnected')\n",
    "y_pos = np.arange(len(classifier))\n",
    "print(y_pos)\n",
    "print(score)"
   ]
  },
  {
   "cell_type": "code",
   "execution_count": 49,
   "metadata": {},
   "outputs": [
    {
     "data": {
      "image/png": "[encoded data removed]",
      "text/plain": [
       "<Figure size 432x288 with 1 Axes>"
      ]
     },
     "metadata": {
      "needs_background": "light"
     },
     "output_type": "display_data"
    }
   ],
   "source": [
    "import matplotlib.pyplot as plt2\n",
    "plt2.barh(y_pos, score, align='center', alpha=0.5,color='blue')\n",
    "plt2.yticks(y_pos, classifier)\n",
    "plt2.xlabel('Score')\n",
    "plt2.title('Classification Performance')\n",
    "plt2.show()"
   ]
  },
  {
   "cell_type": "code",
   "execution_count": 50,
   "metadata": {},
   "outputs": [],
   "source": [
    "import numpy as np\n",
    "import pandas as pd\n",
    "from Recipe import *\n",
    "import os\n",
    "import cv2"
   ]
  },
  {
   "cell_type": "code",
   "execution_count": 51,
   "metadata": {},
   "outputs": [],
   "source": [
    "from keras.utils.np_utils import to_categorical\n",
    "from tensorflow.keras.layers import  MaxPooling2D\n",
    "from tensorflow.keras.layers import Dense, Dropout, Activation, Flatten\n",
    "from tensorflow.keras.layers import Convolution2D\n",
    "from tensorflow.keras.models import Sequential\n",
    "from tensorflow.keras.models import model_from_json"
   ]
  },
  {
   "cell_type": "code",
   "execution_count": 52,
   "metadata": {},
   "outputs": [],
   "source": [
    "import ast"
   ]
  },
  {
   "cell_type": "code",
   "execution_count": 53,
   "metadata": {},
   "outputs": [],
   "source": [
    "recipe_list = []"
   ]
  },
  {
   "cell_type": "code",
   "execution_count": 54,
   "metadata": {},
   "outputs": [
    {
     "name": "stdout",
     "output_type": "stream",
     "text": [
      "indian chai hot chocolate\n"
     ]
    }
   ],
   "source": [
    "recipe_list.clear()\n",
    "dataset = pd.read_csv('Dataset/core-data_recipe.csv',nrows=1000)\n",
    "for i in range(len(dataset)):\n",
    "    r_id = dataset._get_value(i, 'recipe_id')\n",
    "    r_name = dataset._get_value(i, 'recipe_name')\n",
    "    ingredients = dataset._get_value(i, 'ingredients')\n",
    "    nutritions = dataset._get_value(i, 'nutritions')\n",
    "    cooking = ast.literal_eval(dataset._get_value(i, 'cooking_directions')).get('directions')\n",
    "    r_name = r_name.strip().lower()\n",
    "    obj = Recipe()\n",
    "    obj.setRecipeID(r_id)\n",
    "    obj.setName(r_name)\n",
    "    obj.setIngredients(ingredients)\n",
    "    obj.setNutritions(nutritions)\n",
    "    obj.setCooking(cooking)\n",
    "    recipe_list.append(obj)\n",
    "indian = np.load('index.txt.npy',allow_pickle=True)\n",
    "for i in range(len(indian)):\n",
    "    recipe_list.append(indian[i])\n",
    "obj = recipe_list[len(recipe_list)-1]\n",
    "print(obj.getName())"
   ]
  },
  {
   "cell_type": "code",
   "execution_count": 55,
   "metadata": {},
   "outputs": [
    {
     "name": "stdout",
     "output_type": "stream",
     "text": [
      "Model: \"sequential_1\"\n",
      "_________________________________________________________________\n",
      "Layer (type)                 Output Shape              Param #   \n",
      "=================================================================\n",
      "conv2d_1 (Conv2D)            (None, 62, 62, 32)        896       \n",
      "_________________________________________________________________\n",
      "max_pooling2d_1 (MaxPooling2 (None, 31, 31, 32)        0         \n",
      "_________________________________________________________________\n",
      "conv2d_2 (Conv2D)            (None, 29, 29, 32)        9248      \n",
      "_________________________________________________________________\n",
      "max_pooling2d_2 (MaxPooling2 (None, 14, 14, 32)        0         \n",
      "_________________________________________________________________\n",
      "flatten_1 (Flatten)          (None, 6272)              0         \n",
      "_________________________________________________________________\n",
      "dense_1 (Dense)              (None, 256)               1605888   \n",
      "_________________________________________________________________\n",
      "dense_2 (Dense)              (None, 1126)              289382    \n",
      "=================================================================\n",
      "Total params: 1,905,414\n",
      "Trainable params: 1,905,414\n",
      "Non-trainable params: 0\n",
      "_________________________________________________________________\n",
      "None\n"
     ]
    }
   ],
   "source": [
    "global classifier\n",
    "if os.path.exists('model/1model.json'):\n",
    "    with open('model/1model.json', \"r\") as json_file:\n",
    "        loaded_model_json = json_file.read()\n",
    "        classifier = model_from_json(loaded_model_json)\n",
    "    classifier.load_weights(\"model/1model_weights.h5\")\n",
    "    #classifier._make_predict_function()  \n",
    "    print(classifier.summary())"
   ]
  },
  {
   "cell_type": "code",
   "execution_count": 56,
   "metadata": {},
   "outputs": [],
   "source": [
    "image = cv2.imread('testImages/1.jpg')"
   ]
  },
  {
   "cell_type": "code",
   "execution_count": 57,
   "metadata": {},
   "outputs": [],
   "source": [
    "img = cv2.resize(image, (64,64))\n",
    "im2arr = np.array(img)\n",
    "im2arr = im2arr.reshape(1,64,64,3)\n",
    "img = np.asarray(im2arr)\n",
    "img = img.astype('float32')\n",
    "img = img/255\n",
    "preds = classifier.predict(img)"
   ]
  },
  {
   "cell_type": "code",
   "execution_count": 58,
   "metadata": {},
   "outputs": [
    {
     "name": "stdout",
     "output_type": "stream",
     "text": [
      "1122\n"
     ]
    }
   ],
   "source": [
    "predict = np.argmax(preds)\n",
    "if predict > 0:\n",
    "    predict = predict - 1\n",
    "print(predict)"
   ]
  },
  {
   "cell_type": "code",
   "execution_count": 59,
   "metadata": {},
   "outputs": [],
   "source": [
    "obj = recipe_list[predict]"
   ]
  },
  {
   "cell_type": "code",
   "execution_count": 60,
   "metadata": {},
   "outputs": [
    {
     "data": {
      "text/plain": [
       "'indian vegetable rice'"
      ]
     },
     "execution_count": 60,
     "metadata": {},
     "output_type": "execute_result"
    }
   ],
   "source": [
    "obj.getName()"
   ]
  },
  {
   "cell_type": "code",
   "execution_count": 61,
   "metadata": {},
   "outputs": [
    {
     "data": {
      "text/plain": [
       "'vegetable oil^onion^ground cumin^Basmati rice^water^salt^garam masala^frozen mixed vegetables'"
      ]
     },
     "execution_count": 61,
     "metadata": {},
     "output_type": "execute_result"
    }
   ],
   "source": [
    "obj.getIngredients()"
   ]
  },
  {
   "cell_type": "code",
   "execution_count": 62,
   "metadata": {},
   "outputs": [
    {
     "data": {
      "text/plain": [
       "'Prep\\n10 m\\nCook\\n40 m\\nReady In\\n50 m\\nIn a large pan heat oil over medium heat and saute onions and cumin until onions are tender, but not browned. Rinse the rise several times and drain well. Add the rice to the pan with the onions and pour in the 2 cups of water. Stir in salt, garam masala and vegetables. Cover the pan and increase the heat to high.\\nBring the mixture to a boil and then reduce the heat to low, keeping the rice covered at all times. After cooking for about 10 minutes, gently stir the rice to distribute the spices evenly. Cook 25 to 30 minutes, or until all of the water has evaporated and the rice is tender.'"
      ]
     },
     "execution_count": 62,
     "metadata": {},
     "output_type": "execute_result"
    }
   ],
   "source": [
    "obj.getCooking()"
   ]
  },
  {
   "cell_type": "code",
   "execution_count": 63,
   "metadata": {},
   "outputs": [
    {
     "data": {
      "text/plain": [
       "\"{u'niacin': {u'hasCompleteData': False, u'name': u'Niacin Equivalents', u'amount': 1.377288, u'percentDailyValue': u'11', u'displayValue': u'1', u'unit': u'mg'}, u'sugars': {u'hasCompleteData': False, u'name': u'Sugars', u'amount': 3.643998, u'percentDailyValue': u'0', u'displayValue': u'3.6', u'unit': u'g'}, u'sodium': {u'hasCompleteData': False, u'name': u'Sodium', u'amount': 904.5907, u'percentDailyValue': u'36', u'displayValue': u'905', u'unit': u'mg'}, u'carbohydrates': {u'hasCompleteData': False, u'name': u'Carbohydrates', u'amount': 87.06129, u'percentDailyValue': u'28', u'displayValue': u'87.1', u'unit': u'g'}, u'vitaminB6': {u'hasCompleteData': False, u'name': u'Vitamin B6', u'amount': 0.1287863, u'percentDailyValue': u'8', u'displayValue': u'< 1', u'unit': u'mg'}, u'calories': {u'hasCompleteData': False, u'name': u'Calories', u'amount': 514.7228, u'percentDailyValue': u'26', u'displayValue': u'515', u'unit': u'kcal'}, u'thiamin': {u'hasCompleteData': False, u'name': u'Thiamin', u'amount': 0.07847325, u'percentDailyValue': u'8', u'displayValue': u'< 1', u'unit': u'mg'}, u'fat': {u'hasCompleteData': False, u'name': u'Fat', u'amount': 15.39086, u'percentDailyValue': u'24', u'displayValue': u'15.4', u'unit': u'g'}, u'folate': {u'hasCompleteData': False, u'name': u'Folate', u'amount': 26.737, u'percentDailyValue': u'15', u'displayValue': u'27', u'unit': u'mcg'}, u'caloriesFromFat': {u'hasCompleteData': False, u'name': u'Calories from Fat', u'amount': 138.5178, u'percentDailyValue': u'-', u'displayValue': u'139', u'unit': u'kcal'}, u'calcium': {u'hasCompleteData': False, u'name': u'Calcium', u'amount': 41.4942, u'percentDailyValue': u'5', u'displayValue': u'41', u'unit': u'mg'}, u'fiber': {u'hasCompleteData': False, u'name': u'Dietary Fiber', u'amount': 4.273053, u'percentDailyValue': u'17', u'displayValue': u'4.3', u'unit': u'g'}, u'magnesium': {u'hasCompleteData': False, u'name': u'Magnesium', u'amount': 23.49979, u'percentDailyValue': u'8', u'displayValue': u'23', u'unit': u'mg'}, u'iron': {u'hasCompleteData': False, u'name': u'Iron', u'amount': 1.507373, u'percentDailyValue': u'15', u'displayValue': u'2', u'unit': u'mg'}, u'cholesterol': {u'hasCompleteData': False, u'name': u'Cholesterol', u'amount': 0.0, u'percentDailyValue': u'0', u'displayValue': u'0', u'unit': u'mg'}, u'protein': {u'hasCompleteData': False, u'name': u'Protein', u'amount': 9.885675, u'percentDailyValue': u'20', u'displayValue': u'9.9', u'unit': u'g'}, u'vitaminA': {u'hasCompleteData': False, u'name': u'Vitamin A - IU', u'amount': 3113.377, u'percentDailyValue': u'62', u'displayValue': u'3113', u'unit': u'IU'}, u'potassium': {u'hasCompleteData': False, u'name': u'Potassium', u'amount': 231.2857, u'percentDailyValue': u'6', u'displayValue': u'231', u'unit': u'mg'}, u'saturatedFat': {u'hasCompleteData': False, u'name': u'Saturated Fat', u'amount': 2.622558, u'percentDailyValue': u'13', u'displayValue': u'2.6', u'unit': u'g'}, u'vitaminC': {u'hasCompleteData': False, u'name': u'Vitamin C', u'amount': 9.919965, u'percentDailyValue': u'17', u'displayValue': u'10', u'unit': u'mg'}}\\n\""
      ]
     },
     "execution_count": 63,
     "metadata": {},
     "output_type": "execute_result"
    }
   ],
   "source": [
    "obj.getNutritions()"
   ]
  },
  {
   "cell_type": "code",
   "execution_count": null,
   "metadata": {},
   "outputs": [],
   "source": []
  }
 ],
 "metadata": {
  "kernelspec": {
   "display_name": "Python 3",
   "language": "python",
   "name": "python3"
  },
  "language_info": {
   "codemirror_mode": {
    "name": "ipython",
    "version": 3
   },
   "file_extension": ".py",
   "mimetype": "text/x-python",
   "name": "python",
   "nbconvert_exporter": "python",
   "pygments_lexer": "ipython3",
   "version": "3.7.4"
  }
 },
 "nbformat": 4,
 "nbformat_minor": 2
}
